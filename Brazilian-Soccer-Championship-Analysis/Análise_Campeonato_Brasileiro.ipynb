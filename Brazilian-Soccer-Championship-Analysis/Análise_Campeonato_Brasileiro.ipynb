{
  "nbformat": 4,
  "nbformat_minor": 5,
  "metadata": {
    "kernelspec": {
      "display_name": "Python 3",
      "language": "python",
      "name": "python3"
    },
    "language_info": {
      "codemirror_mode": {
        "name": "ipython",
        "version": 3
      },
      "file_extension": ".py",
      "mimetype": "text/x-python",
      "name": "python",
      "nbconvert_exporter": "python",
      "pygments_lexer": "ipython3",
      "version": "3.8.5"
    },
    "colab": {
      "name": "Análise Campeonato Brasileiro V2.ipynb",
      "provenance": []
    }
  },
  "cells": [
    {
      "cell_type": "code",
      "metadata": {
        "id": "superb-aquarium"
      },
      "source": [
        "import pandas as pd\n",
        "import numpy as np\n",
        "import matplotlib.pyplot as plt"
      ],
      "id": "superb-aquarium",
      "execution_count": 2,
      "outputs": []
    },
    {
      "cell_type": "code",
      "metadata": {
        "id": "valuable-definition"
      },
      "source": [
        "bra_full = pd.read_csv('/content/campeonato-brasileiro-full.csv', sep=',')\n",
        "bra_camp = pd.read_csv('/content/campoes_brasileiro.csv', sep=',')"
      ],
      "id": "valuable-definition",
      "execution_count": 4,
      "outputs": []
    },
    {
      "cell_type": "code",
      "metadata": {
        "scrolled": true,
        "colab": {
          "base_uri": "https://localhost:8080/",
          "height": 304
        },
        "id": "southeast-appointment",
        "outputId": "01276bee-bb16-4a41-91d2-8c76281b91d4"
      },
      "source": [
        "bra_full.head()"
      ],
      "id": "southeast-appointment",
      "execution_count": 5,
      "outputs": [
        {
          "output_type": "execute_result",
          "data": {
            "text/html": [
              "<div>\n",
              "<style scoped>\n",
              "    .dataframe tbody tr th:only-of-type {\n",
              "        vertical-align: middle;\n",
              "    }\n",
              "\n",
              "    .dataframe tbody tr th {\n",
              "        vertical-align: top;\n",
              "    }\n",
              "\n",
              "    .dataframe thead th {\n",
              "        text-align: right;\n",
              "    }\n",
              "</style>\n",
              "<table border=\"1\" class=\"dataframe\">\n",
              "  <thead>\n",
              "    <tr style=\"text-align: right;\">\n",
              "      <th></th>\n",
              "      <th>Rodada</th>\n",
              "      <th>Data</th>\n",
              "      <th>Horário</th>\n",
              "      <th>Dia</th>\n",
              "      <th>Mandante</th>\n",
              "      <th>Visitante</th>\n",
              "      <th>Vencedor</th>\n",
              "      <th>Arena</th>\n",
              "      <th>Mandante Placar</th>\n",
              "      <th>Visitante Placar</th>\n",
              "      <th>Estado Mandante</th>\n",
              "      <th>Estado Visitante</th>\n",
              "      <th>Estado Vencedor</th>\n",
              "    </tr>\n",
              "  </thead>\n",
              "  <tbody>\n",
              "    <tr>\n",
              "      <th>0</th>\n",
              "      <td>1</td>\n",
              "      <td>2000-07-29</td>\n",
              "      <td>16h00</td>\n",
              "      <td>Sábado</td>\n",
              "      <td>Fluminense</td>\n",
              "      <td>Bahia</td>\n",
              "      <td>Fluminense</td>\n",
              "      <td>Maracanã</td>\n",
              "      <td>2</td>\n",
              "      <td>0</td>\n",
              "      <td>RJ</td>\n",
              "      <td>BA</td>\n",
              "      <td>RJ</td>\n",
              "    </tr>\n",
              "    <tr>\n",
              "      <th>1</th>\n",
              "      <td>1</td>\n",
              "      <td>2000-07-29</td>\n",
              "      <td>16h00</td>\n",
              "      <td>Sábado</td>\n",
              "      <td>Vasco</td>\n",
              "      <td>Sport</td>\n",
              "      <td>Sport</td>\n",
              "      <td>São Januário</td>\n",
              "      <td>0</td>\n",
              "      <td>2</td>\n",
              "      <td>RJ</td>\n",
              "      <td>PE</td>\n",
              "      <td>PE</td>\n",
              "    </tr>\n",
              "    <tr>\n",
              "      <th>2</th>\n",
              "      <td>1</td>\n",
              "      <td>2000-07-29</td>\n",
              "      <td>16h00</td>\n",
              "      <td>Sábado</td>\n",
              "      <td>Vitória</td>\n",
              "      <td>Palmeiras</td>\n",
              "      <td>Vitória</td>\n",
              "      <td>Barradão</td>\n",
              "      <td>4</td>\n",
              "      <td>1</td>\n",
              "      <td>ES</td>\n",
              "      <td>SP</td>\n",
              "      <td>ES</td>\n",
              "    </tr>\n",
              "    <tr>\n",
              "      <th>3</th>\n",
              "      <td>1</td>\n",
              "      <td>2000-07-30</td>\n",
              "      <td>17h00</td>\n",
              "      <td>Domingo</td>\n",
              "      <td>Botafogo-RJ</td>\n",
              "      <td>Atlético-MG</td>\n",
              "      <td>-</td>\n",
              "      <td>Caio Martins</td>\n",
              "      <td>0</td>\n",
              "      <td>0</td>\n",
              "      <td>RJ</td>\n",
              "      <td>MG</td>\n",
              "      <td>-</td>\n",
              "    </tr>\n",
              "    <tr>\n",
              "      <th>4</th>\n",
              "      <td>1</td>\n",
              "      <td>2000-07-30</td>\n",
              "      <td>18h30</td>\n",
              "      <td>Domingo</td>\n",
              "      <td>Juventude</td>\n",
              "      <td>Flamengo</td>\n",
              "      <td>-</td>\n",
              "      <td>Alfredo Jaconi</td>\n",
              "      <td>1</td>\n",
              "      <td>1</td>\n",
              "      <td>RS</td>\n",
              "      <td>RJ</td>\n",
              "      <td>-</td>\n",
              "    </tr>\n",
              "  </tbody>\n",
              "</table>\n",
              "</div>"
            ],
            "text/plain": [
              "  Rodada        Data Horário  ... Estado Mandante Estado Visitante Estado Vencedor\n",
              "0      1  2000-07-29   16h00  ...              RJ               BA              RJ\n",
              "1      1  2000-07-29   16h00  ...              RJ               PE              PE\n",
              "2      1  2000-07-29   16h00  ...              ES               SP              ES\n",
              "3      1  2000-07-30   17h00  ...              RJ               MG               -\n",
              "4      1  2000-07-30   18h30  ...              RS               RJ               -\n",
              "\n",
              "[5 rows x 13 columns]"
            ]
          },
          "metadata": {
            "tags": []
          },
          "execution_count": 5
        }
      ]
    },
    {
      "cell_type": "code",
      "metadata": {
        "colab": {
          "base_uri": "https://localhost:8080/"
        },
        "id": "environmental-illinois",
        "outputId": "5d11378d-4218-4287-9cb1-b5506001ead6"
      },
      "source": [
        "bra_full.info()"
      ],
      "id": "environmental-illinois",
      "execution_count": 6,
      "outputs": [
        {
          "output_type": "stream",
          "text": [
            "<class 'pandas.core.frame.DataFrame'>\n",
            "RangeIndex: 8319 entries, 0 to 8318\n",
            "Data columns (total 13 columns):\n",
            " #   Column            Non-Null Count  Dtype \n",
            "---  ------            --------------  ----- \n",
            " 0   Rodada            8319 non-null   object\n",
            " 1   Data              8319 non-null   object\n",
            " 2   Horário           7962 non-null   object\n",
            " 3   Dia               8319 non-null   object\n",
            " 4   Mandante          8319 non-null   object\n",
            " 5   Visitante         8319 non-null   object\n",
            " 6   Vencedor          8319 non-null   object\n",
            " 7   Arena             8319 non-null   object\n",
            " 8   Mandante Placar   8319 non-null   int64 \n",
            " 9   Visitante Placar  8319 non-null   int64 \n",
            " 10  Estado Mandante   8319 non-null   object\n",
            " 11  Estado Visitante  8319 non-null   object\n",
            " 12  Estado Vencedor   8319 non-null   object\n",
            "dtypes: int64(2), object(11)\n",
            "memory usage: 845.0+ KB\n"
          ],
          "name": "stdout"
        }
      ]
    },
    {
      "cell_type": "code",
      "metadata": {
        "colab": {
          "base_uri": "https://localhost:8080/"
        },
        "id": "particular-brighton",
        "outputId": "1a290af2-bcdc-42a3-84c2-2ba6a85c6fc0"
      },
      "source": [
        "bra_full.isna().sum()"
      ],
      "id": "particular-brighton",
      "execution_count": 7,
      "outputs": [
        {
          "output_type": "execute_result",
          "data": {
            "text/plain": [
              "Rodada                0\n",
              "Data                  0\n",
              "Horário             357\n",
              "Dia                   0\n",
              "Mandante              0\n",
              "Visitante             0\n",
              "Vencedor              0\n",
              "Arena                 0\n",
              "Mandante Placar       0\n",
              "Visitante Placar      0\n",
              "Estado Mandante       0\n",
              "Estado Visitante      0\n",
              "Estado Vencedor       0\n",
              "dtype: int64"
            ]
          },
          "metadata": {
            "tags": []
          },
          "execution_count": 7
        }
      ]
    },
    {
      "cell_type": "code",
      "metadata": {
        "id": "excited-buyer"
      },
      "source": [
        "# Deixando apenas as colunas necessárias para a análise"
      ],
      "id": "excited-buyer",
      "execution_count": 8,
      "outputs": []
    },
    {
      "cell_type": "code",
      "metadata": {
        "id": "binary-atlanta"
      },
      "source": [
        "bra_full.drop('Horário', axis=1, inplace=True)\n"
      ],
      "id": "binary-atlanta",
      "execution_count": 9,
      "outputs": []
    },
    {
      "cell_type": "code",
      "metadata": {
        "colab": {
          "base_uri": "https://localhost:8080/"
        },
        "id": "qGObqbrB6A_H",
        "outputId": "1661246f-a02d-4303-e376-64da166b0a78"
      },
      "source": [
        "bra_full['Data'] = bra_full['Data'].apply(lambda x: x.split('-')[0])\n",
        "bra_full['Data'] = bra_full['Data'].apply(lambda x: x.split('-')[0]).replace('2021','2020')\n",
        "bra_full['Ano'] = bra_full['Data'].apply(lambda x: x.split('-')[0])\n",
        "bra_full['Ano']"
      ],
      "id": "qGObqbrB6A_H",
      "execution_count": 10,
      "outputs": [
        {
          "output_type": "execute_result",
          "data": {
            "text/plain": [
              "0       2000\n",
              "1       2000\n",
              "2       2000\n",
              "3       2000\n",
              "4       2000\n",
              "        ... \n",
              "8314    2020\n",
              "8315    2020\n",
              "8316    2020\n",
              "8317    2020\n",
              "8318    2020\n",
              "Name: Ano, Length: 8319, dtype: object"
            ]
          },
          "metadata": {
            "tags": []
          },
          "execution_count": 10
        }
      ]
    },
    {
      "cell_type": "code",
      "metadata": {
        "id": "hindu-weapon"
      },
      "source": [
        "# Transformando a coluna Data para datetime\n",
        "bra_full['Data'] = pd.to_datetime(bra_full['Data'])"
      ],
      "id": "hindu-weapon",
      "execution_count": 11,
      "outputs": []
    },
    {
      "cell_type": "code",
      "metadata": {
        "id": "flying-appointment"
      },
      "source": [
        "# Criando a coluna ano\n",
        "bra_full['Ano'] = pd.DatetimeIndex(bra_full['Data']).year"
      ],
      "id": "flying-appointment",
      "execution_count": 12,
      "outputs": []
    },
    {
      "cell_type": "code",
      "metadata": {
        "id": "amended-graphic"
      },
      "source": [
        "# Selecionando as colunas de interesse\n",
        "bra_full = bra_full[['Ano', 'Vencedor']]"
      ],
      "id": "amended-graphic",
      "execution_count": 13,
      "outputs": []
    },
    {
      "cell_type": "code",
      "metadata": {
        "id": "consistent-mason"
      },
      "source": [
        "# Selecionando apenas os valores em que teve vencedor\n",
        "bra_full = bra_full[bra_full['Vencedor'] != '-']"
      ],
      "id": "consistent-mason",
      "execution_count": 14,
      "outputs": []
    },
    {
      "cell_type": "code",
      "metadata": {
        "id": "signal-livestock"
      },
      "source": [
        "# Criando o campo de vitórias por ano\n",
        "bra_full['Vitorias'] = bra_full.groupby(['Ano','Vencedor'])['Vencedor'].transform('count')"
      ],
      "id": "signal-livestock",
      "execution_count": 15,
      "outputs": []
    },
    {
      "cell_type": "code",
      "metadata": {
        "id": "framed-trance"
      },
      "source": [
        "# Removendo os valores duplicados\n",
        "bra_full = bra_full.drop_duplicates(subset=['Ano','Vencedor','Vitorias'], keep='first')"
      ],
      "id": "framed-trance",
      "execution_count": 16,
      "outputs": []
    },
    {
      "cell_type": "code",
      "metadata": {
        "colab": {
          "base_uri": "https://localhost:8080/",
          "height": 417
        },
        "id": "breathing-pizza",
        "outputId": "d726240c-d415-47b1-8705-1d41bd392bb3"
      },
      "source": [
        "bra_full"
      ],
      "id": "breathing-pizza",
      "execution_count": 17,
      "outputs": [
        {
          "output_type": "execute_result",
          "data": {
            "text/html": [
              "<div>\n",
              "<style scoped>\n",
              "    .dataframe tbody tr th:only-of-type {\n",
              "        vertical-align: middle;\n",
              "    }\n",
              "\n",
              "    .dataframe tbody tr th {\n",
              "        vertical-align: top;\n",
              "    }\n",
              "\n",
              "    .dataframe thead th {\n",
              "        text-align: right;\n",
              "    }\n",
              "</style>\n",
              "<table border=\"1\" class=\"dataframe\">\n",
              "  <thead>\n",
              "    <tr style=\"text-align: right;\">\n",
              "      <th></th>\n",
              "      <th>Ano</th>\n",
              "      <th>Vencedor</th>\n",
              "      <th>Vitorias</th>\n",
              "    </tr>\n",
              "  </thead>\n",
              "  <tbody>\n",
              "    <tr>\n",
              "      <th>0</th>\n",
              "      <td>2000</td>\n",
              "      <td>Fluminense</td>\n",
              "      <td>12</td>\n",
              "    </tr>\n",
              "    <tr>\n",
              "      <th>1</th>\n",
              "      <td>2000</td>\n",
              "      <td>Sport</td>\n",
              "      <td>12</td>\n",
              "    </tr>\n",
              "    <tr>\n",
              "      <th>2</th>\n",
              "      <td>2000</td>\n",
              "      <td>Vitória</td>\n",
              "      <td>9</td>\n",
              "    </tr>\n",
              "    <tr>\n",
              "      <th>6</th>\n",
              "      <td>2000</td>\n",
              "      <td>Athlético-PR</td>\n",
              "      <td>11</td>\n",
              "    </tr>\n",
              "    <tr>\n",
              "      <th>7</th>\n",
              "      <td>2000</td>\n",
              "      <td>Gama</td>\n",
              "      <td>6</td>\n",
              "    </tr>\n",
              "    <tr>\n",
              "      <th>...</th>\n",
              "      <td>...</td>\n",
              "      <td>...</td>\n",
              "      <td>...</td>\n",
              "    </tr>\n",
              "    <tr>\n",
              "      <th>7974</th>\n",
              "      <td>2020</td>\n",
              "      <td>Botafogo-RJ</td>\n",
              "      <td>5</td>\n",
              "    </tr>\n",
              "    <tr>\n",
              "      <th>7975</th>\n",
              "      <td>2020</td>\n",
              "      <td>Corinthians</td>\n",
              "      <td>13</td>\n",
              "    </tr>\n",
              "    <tr>\n",
              "      <th>7981</th>\n",
              "      <td>2020</td>\n",
              "      <td>Goiás</td>\n",
              "      <td>9</td>\n",
              "    </tr>\n",
              "    <tr>\n",
              "      <th>7985</th>\n",
              "      <td>2020</td>\n",
              "      <td>Coritiba</td>\n",
              "      <td>7</td>\n",
              "    </tr>\n",
              "    <tr>\n",
              "      <th>7987</th>\n",
              "      <td>2020</td>\n",
              "      <td>Ceará</td>\n",
              "      <td>14</td>\n",
              "    </tr>\n",
              "  </tbody>\n",
              "</table>\n",
              "<p>468 rows × 3 columns</p>\n",
              "</div>"
            ],
            "text/plain": [
              "       Ano      Vencedor  Vitorias\n",
              "0     2000    Fluminense        12\n",
              "1     2000         Sport        12\n",
              "2     2000       Vitória         9\n",
              "6     2000  Athlético-PR        11\n",
              "7     2000          Gama         6\n",
              "...    ...           ...       ...\n",
              "7974  2020   Botafogo-RJ         5\n",
              "7975  2020   Corinthians        13\n",
              "7981  2020         Goiás         9\n",
              "7985  2020      Coritiba         7\n",
              "7987  2020         Ceará        14\n",
              "\n",
              "[468 rows x 3 columns]"
            ]
          },
          "metadata": {
            "tags": []
          },
          "execution_count": 17
        }
      ]
    },
    {
      "cell_type": "code",
      "metadata": {
        "id": "mediterranean-lucas"
      },
      "source": [
        "# Padronizando os nomes dos clubes\n",
        "bra_full['Vencedor'] = bra_full['Vencedor'].replace(['SANTOS','FLUMINENSE','VASCO','CRUZEIRO','CORINTHIANS','SPORT','portuguesa','FLAMENGO','PONTE PRETA','INTERNACIONAL','PALMEIRAS'],['Santos','Fluminense','Vasco','Cruzeiro','Corinthians','Sport','Portuguesa','Flamengo','Ponte Preta','Internacional','Palmeiras'])"
      ],
      "id": "mediterranean-lucas",
      "execution_count": 18,
      "outputs": []
    },
    {
      "cell_type": "code",
      "metadata": {
        "scrolled": true,
        "id": "better-ukraine"
      },
      "source": [
        "# Ajustando a tabela do campeonato de 2020 que se extendeu ao ano de 2021\n",
        "bra_full['Ano'] = bra_full['Ano'].replace('2021','2020')"
      ],
      "id": "better-ukraine",
      "execution_count": 19,
      "outputs": []
    },
    {
      "cell_type": "code",
      "metadata": {
        "colab": {
          "base_uri": "https://localhost:8080/",
          "height": 696
        },
        "id": "retained-palmer",
        "outputId": "0f14d6bd-71d0-4161-ab87-c665fa6e21c3"
      },
      "source": [
        "# Identificando os maiores vencedores de cada ano\n",
        "bra_full = bra_full.loc[bra_full.groupby('Ano')['Vitorias'].idxmax()]\n",
        "bra_full"
      ],
      "id": "retained-palmer",
      "execution_count": 20,
      "outputs": [
        {
          "output_type": "execute_result",
          "data": {
            "text/html": [
              "<div>\n",
              "<style scoped>\n",
              "    .dataframe tbody tr th:only-of-type {\n",
              "        vertical-align: middle;\n",
              "    }\n",
              "\n",
              "    .dataframe tbody tr th {\n",
              "        vertical-align: top;\n",
              "    }\n",
              "\n",
              "    .dataframe thead th {\n",
              "        text-align: right;\n",
              "    }\n",
              "</style>\n",
              "<table border=\"1\" class=\"dataframe\">\n",
              "  <thead>\n",
              "    <tr style=\"text-align: right;\">\n",
              "      <th></th>\n",
              "      <th>Ano</th>\n",
              "      <th>Vencedor</th>\n",
              "      <th>Vitorias</th>\n",
              "    </tr>\n",
              "  </thead>\n",
              "  <tbody>\n",
              "    <tr>\n",
              "      <th>0</th>\n",
              "      <td>2000</td>\n",
              "      <td>Fluminense</td>\n",
              "      <td>12</td>\n",
              "    </tr>\n",
              "    <tr>\n",
              "      <th>343</th>\n",
              "      <td>2001</td>\n",
              "      <td>Athlético-PR</td>\n",
              "      <td>20</td>\n",
              "    </tr>\n",
              "    <tr>\n",
              "      <th>719</th>\n",
              "      <td>2002</td>\n",
              "      <td>São Paulo</td>\n",
              "      <td>16</td>\n",
              "    </tr>\n",
              "    <tr>\n",
              "      <th>1070</th>\n",
              "      <td>2003</td>\n",
              "      <td>Cruzeiro</td>\n",
              "      <td>30</td>\n",
              "    </tr>\n",
              "    <tr>\n",
              "      <th>1627</th>\n",
              "      <td>2004</td>\n",
              "      <td>Santos</td>\n",
              "      <td>26</td>\n",
              "    </tr>\n",
              "    <tr>\n",
              "      <th>2193</th>\n",
              "      <td>2005</td>\n",
              "      <td>Corinthians</td>\n",
              "      <td>24</td>\n",
              "    </tr>\n",
              "    <tr>\n",
              "      <th>2628</th>\n",
              "      <td>2006</td>\n",
              "      <td>São Paulo</td>\n",
              "      <td>22</td>\n",
              "    </tr>\n",
              "    <tr>\n",
              "      <th>3001</th>\n",
              "      <td>2007</td>\n",
              "      <td>São Paulo</td>\n",
              "      <td>23</td>\n",
              "    </tr>\n",
              "    <tr>\n",
              "      <th>3383</th>\n",
              "      <td>2008</td>\n",
              "      <td>Grêmio</td>\n",
              "      <td>21</td>\n",
              "    </tr>\n",
              "    <tr>\n",
              "      <th>3767</th>\n",
              "      <td>2009</td>\n",
              "      <td>Internacional</td>\n",
              "      <td>19</td>\n",
              "    </tr>\n",
              "    <tr>\n",
              "      <th>4147</th>\n",
              "      <td>2010</td>\n",
              "      <td>Cruzeiro</td>\n",
              "      <td>20</td>\n",
              "    </tr>\n",
              "    <tr>\n",
              "      <th>4525</th>\n",
              "      <td>2011</td>\n",
              "      <td>Corinthians</td>\n",
              "      <td>21</td>\n",
              "    </tr>\n",
              "    <tr>\n",
              "      <th>4906</th>\n",
              "      <td>2012</td>\n",
              "      <td>Fluminense</td>\n",
              "      <td>22</td>\n",
              "    </tr>\n",
              "    <tr>\n",
              "      <th>5285</th>\n",
              "      <td>2013</td>\n",
              "      <td>Cruzeiro</td>\n",
              "      <td>23</td>\n",
              "    </tr>\n",
              "    <tr>\n",
              "      <th>5666</th>\n",
              "      <td>2014</td>\n",
              "      <td>Cruzeiro</td>\n",
              "      <td>23</td>\n",
              "    </tr>\n",
              "    <tr>\n",
              "      <th>6046</th>\n",
              "      <td>2015</td>\n",
              "      <td>Corinthians</td>\n",
              "      <td>24</td>\n",
              "    </tr>\n",
              "    <tr>\n",
              "      <th>6422</th>\n",
              "      <td>2016</td>\n",
              "      <td>Palmeiras</td>\n",
              "      <td>24</td>\n",
              "    </tr>\n",
              "    <tr>\n",
              "      <th>6814</th>\n",
              "      <td>2017</td>\n",
              "      <td>Corinthians</td>\n",
              "      <td>21</td>\n",
              "    </tr>\n",
              "    <tr>\n",
              "      <th>7197</th>\n",
              "      <td>2018</td>\n",
              "      <td>Palmeiras</td>\n",
              "      <td>23</td>\n",
              "    </tr>\n",
              "    <tr>\n",
              "      <th>7561</th>\n",
              "      <td>2019</td>\n",
              "      <td>Flamengo</td>\n",
              "      <td>28</td>\n",
              "    </tr>\n",
              "    <tr>\n",
              "      <th>7960</th>\n",
              "      <td>2020</td>\n",
              "      <td>Flamengo</td>\n",
              "      <td>21</td>\n",
              "    </tr>\n",
              "  </tbody>\n",
              "</table>\n",
              "</div>"
            ],
            "text/plain": [
              "       Ano       Vencedor  Vitorias\n",
              "0     2000     Fluminense        12\n",
              "343   2001   Athlético-PR        20\n",
              "719   2002      São Paulo        16\n",
              "1070  2003       Cruzeiro        30\n",
              "1627  2004         Santos        26\n",
              "2193  2005    Corinthians        24\n",
              "2628  2006      São Paulo        22\n",
              "3001  2007      São Paulo        23\n",
              "3383  2008         Grêmio        21\n",
              "3767  2009  Internacional        19\n",
              "4147  2010       Cruzeiro        20\n",
              "4525  2011    Corinthians        21\n",
              "4906  2012     Fluminense        22\n",
              "5285  2013       Cruzeiro        23\n",
              "5666  2014       Cruzeiro        23\n",
              "6046  2015    Corinthians        24\n",
              "6422  2016      Palmeiras        24\n",
              "6814  2017    Corinthians        21\n",
              "7197  2018      Palmeiras        23\n",
              "7561  2019       Flamengo        28\n",
              "7960  2020       Flamengo        21"
            ]
          },
          "metadata": {
            "tags": []
          },
          "execution_count": 20
        }
      ]
    },
    {
      "cell_type": "code",
      "metadata": {
        "id": "superb-pattern"
      },
      "source": [
        "# Renomeando a coluna Vencedor\n",
        "bra_full.rename(columns={'Vencedor': 'Clube_Vitorias'}, inplace = True)"
      ],
      "id": "superb-pattern",
      "execution_count": 21,
      "outputs": []
    },
    {
      "cell_type": "code",
      "metadata": {
        "colab": {
          "base_uri": "https://localhost:8080/",
          "height": 203
        },
        "id": "Ttdq5htZ8rMN",
        "outputId": "630dd6de-4c39-4944-fa82-18ff401be194"
      },
      "source": [
        "bra_camp.head()"
      ],
      "id": "Ttdq5htZ8rMN",
      "execution_count": 22,
      "outputs": [
        {
          "output_type": "execute_result",
          "data": {
            "text/html": [
              "<div>\n",
              "<style scoped>\n",
              "    .dataframe tbody tr th:only-of-type {\n",
              "        vertical-align: middle;\n",
              "    }\n",
              "\n",
              "    .dataframe tbody tr th {\n",
              "        vertical-align: top;\n",
              "    }\n",
              "\n",
              "    .dataframe thead th {\n",
              "        text-align: right;\n",
              "    }\n",
              "</style>\n",
              "<table border=\"1\" class=\"dataframe\">\n",
              "  <thead>\n",
              "    <tr style=\"text-align: right;\">\n",
              "      <th></th>\n",
              "      <th>Ano</th>\n",
              "      <th>Vencedor</th>\n",
              "      <th>Vice</th>\n",
              "      <th>Terceiro colocado</th>\n",
              "      <th>Quarto colocado</th>\n",
              "      <th>Artilheiro(s)</th>\n",
              "      <th>Gols</th>\n",
              "    </tr>\n",
              "  </thead>\n",
              "  <tbody>\n",
              "    <tr>\n",
              "      <th>0</th>\n",
              "      <td>1959</td>\n",
              "      <td>Bahia</td>\n",
              "      <td>Santos</td>\n",
              "      <td>Grêmio</td>\n",
              "      <td>Vasco da Gama</td>\n",
              "      <td>Léo Briglia (Bahia)</td>\n",
              "      <td>8</td>\n",
              "    </tr>\n",
              "    <tr>\n",
              "      <th>1</th>\n",
              "      <td>1960</td>\n",
              "      <td>Palmeiras</td>\n",
              "      <td>Fortaleza</td>\n",
              "      <td>Fluminense</td>\n",
              "      <td>Santa Cruz</td>\n",
              "      <td>Bececê (Fortaleza)</td>\n",
              "      <td>7</td>\n",
              "    </tr>\n",
              "    <tr>\n",
              "      <th>2</th>\n",
              "      <td>1961</td>\n",
              "      <td>Santos</td>\n",
              "      <td>Bahia</td>\n",
              "      <td>America</td>\n",
              "      <td>Náutico</td>\n",
              "      <td>Pelé (Santos)</td>\n",
              "      <td>7</td>\n",
              "    </tr>\n",
              "    <tr>\n",
              "      <th>3</th>\n",
              "      <td>1962</td>\n",
              "      <td>Santos</td>\n",
              "      <td>Botafogo</td>\n",
              "      <td>Internacional</td>\n",
              "      <td>Sport</td>\n",
              "      <td>Coutinho (Santos)</td>\n",
              "      <td>7</td>\n",
              "    </tr>\n",
              "    <tr>\n",
              "      <th>4</th>\n",
              "      <td>1963</td>\n",
              "      <td>Santos</td>\n",
              "      <td>Bahia</td>\n",
              "      <td>Grêmio</td>\n",
              "      <td>Botafogo</td>\n",
              "      <td>Pelé (Santos)</td>\n",
              "      <td>8</td>\n",
              "    </tr>\n",
              "  </tbody>\n",
              "</table>\n",
              "</div>"
            ],
            "text/plain": [
              "    Ano   Vencedor       Vice  ... Quarto colocado        Artilheiro(s) Gols\n",
              "0  1959      Bahia     Santos  ...   Vasco da Gama  Léo Briglia (Bahia)    8\n",
              "1  1960  Palmeiras  Fortaleza  ...      Santa Cruz   Bececê (Fortaleza)    7\n",
              "2  1961     Santos      Bahia  ...         Náutico        Pelé (Santos)    7\n",
              "3  1962     Santos   Botafogo  ...           Sport    Coutinho (Santos)    7\n",
              "4  1963     Santos      Bahia  ...        Botafogo        Pelé (Santos)    8\n",
              "\n",
              "[5 rows x 7 columns]"
            ]
          },
          "metadata": {
            "tags": []
          },
          "execution_count": 22
        }
      ]
    },
    {
      "cell_type": "code",
      "metadata": {
        "colab": {
          "base_uri": "https://localhost:8080/"
        },
        "id": "designing-citizen",
        "outputId": "13c26072-3dfe-429e-e71a-edeb57c62f94"
      },
      "source": [
        "# Filtrando os anos a partir de 2000\n",
        "bra_camp_ano = bra_camp['Ano'] >= 2000\n",
        "filtro_camp = bra_camp.loc[bra_camp_ano]\n",
        "print(filtro_camp)"
      ],
      "id": "designing-citizen",
      "execution_count": 23,
      "outputs": [
        {
          "output_type": "stream",
          "text": [
            "     Ano     Vencedor  ...                                      Artilheiro(s) Gols\n",
            "43  2000        Vasco  ...                              Adhemar (São Caetano)   22\n",
            "44  2001     Atlético  ...                            Romário (Vasco da Gama)   21\n",
            "45  2002       Santos  ...    Luís Fabiano (São Paulo) Rodrigo Fabri (Grêmio)   19\n",
            "46  2003     Cruzeiro  ...                                      Dimba (Goiás)   31\n",
            "47  2004       Santos  ...                   Washington (Atlético Paranaense)   34\n",
            "48  2005  Corinthians  ...                            Romário (Vasco da Gama)   22\n",
            "49  2006          São  ...                                      Souza (Goiás)   17\n",
            "50  2007          São  ...                                    Josiel (Paraná)   20\n",
            "51  2008          São  ...  Keirrison (Coritiba) Kléber Pereira (Santos) W...   21\n",
            "52  2009     Flamengo  ...  Adriano (Flamengo) Diego Tardelli (Atlético Mi...   19\n",
            "53  2010   Fluminense  ...                                     Jonas (Grêmio)   23\n",
            "54  2011  Corinthians  ...                                    Borges (Santos)   23\n",
            "55  2012   Fluminense  ...                                  Fred (Fluminense)   20\n",
            "56  2013     Cruzeiro  ...                      Éderson (Atlético Paranaense)   21\n",
            "57  2014     Cruzeiro  ...                                  Fred (Fluminense)   18\n",
            "58  2015  Corinthians  ...                          Ricardo Oliveira (Santos)   20\n",
            "59  2016    Palmeiras  ...  William Pottker (Ponte Preta)  Diego Souza (Sp...   14\n",
            "60  2017  Corinthians  ...   Henrique Dourado (Fluminense)   Jô (Corinthians)   18\n",
            "61  2018    Palmeiras  ...                                   Gabriel (Santos)   18\n",
            "62  2019     Flamengo  ...                                 Gabriel (Flamengo)   25\n",
            "\n",
            "[20 rows x 7 columns]\n"
          ],
          "name": "stdout"
        }
      ]
    },
    {
      "cell_type": "code",
      "metadata": {
        "id": "dutch-stroke"
      },
      "source": [
        "# Incluindo na coluna apenas valores acima de 2000\n",
        "bra_camp['Ano'] = filtro_camp"
      ],
      "id": "dutch-stroke",
      "execution_count": 24,
      "outputs": []
    },
    {
      "cell_type": "code",
      "metadata": {
        "id": "respected-operator"
      },
      "source": [
        "# Retirando os anos antes de 2000\n",
        "bra_camp.dropna(inplace= True)"
      ],
      "id": "respected-operator",
      "execution_count": 25,
      "outputs": []
    },
    {
      "cell_type": "code",
      "metadata": {
        "colab": {
          "base_uri": "https://localhost:8080/"
        },
        "id": "herbal-finland",
        "outputId": "0d937b5d-0f91-430b-fd8b-01821ac18e0f"
      },
      "source": [
        "# Convertendo o tipo da coluna em numero inteiro\n",
        "bra_camp.astype({'Ano': 'int64'}).dtypes"
      ],
      "id": "herbal-finland",
      "execution_count": 26,
      "outputs": [
        {
          "output_type": "execute_result",
          "data": {
            "text/plain": [
              "Ano                   int64\n",
              "Vencedor             object\n",
              "Vice                 object\n",
              "Terceiro colocado    object\n",
              "Quarto colocado      object\n",
              "Artilheiro(s)        object\n",
              "Gols                  int64\n",
              "dtype: object"
            ]
          },
          "metadata": {
            "tags": []
          },
          "execution_count": 26
        }
      ]
    },
    {
      "cell_type": "code",
      "metadata": {
        "colab": {
          "base_uri": "https://localhost:8080/",
          "height": 665
        },
        "id": "heavy-stupid",
        "outputId": "f1c1d065-3ebc-470f-d185-eca3fcc9018b"
      },
      "source": [
        "# Definindo as colunas de interesse\n",
        "bra_camp = bra_camp[['Ano', 'Vencedor', 'Vice']]\n",
        "bra_camp"
      ],
      "id": "heavy-stupid",
      "execution_count": 27,
      "outputs": [
        {
          "output_type": "execute_result",
          "data": {
            "text/html": [
              "<div>\n",
              "<style scoped>\n",
              "    .dataframe tbody tr th:only-of-type {\n",
              "        vertical-align: middle;\n",
              "    }\n",
              "\n",
              "    .dataframe tbody tr th {\n",
              "        vertical-align: top;\n",
              "    }\n",
              "\n",
              "    .dataframe thead th {\n",
              "        text-align: right;\n",
              "    }\n",
              "</style>\n",
              "<table border=\"1\" class=\"dataframe\">\n",
              "  <thead>\n",
              "    <tr style=\"text-align: right;\">\n",
              "      <th></th>\n",
              "      <th>Ano</th>\n",
              "      <th>Vencedor</th>\n",
              "      <th>Vice</th>\n",
              "    </tr>\n",
              "  </thead>\n",
              "  <tbody>\n",
              "    <tr>\n",
              "      <th>43</th>\n",
              "      <td>2000</td>\n",
              "      <td>Vasco</td>\n",
              "      <td>São Caetano</td>\n",
              "    </tr>\n",
              "    <tr>\n",
              "      <th>44</th>\n",
              "      <td>2001</td>\n",
              "      <td>Atlético</td>\n",
              "      <td>São Caetano</td>\n",
              "    </tr>\n",
              "    <tr>\n",
              "      <th>45</th>\n",
              "      <td>2002</td>\n",
              "      <td>Santos</td>\n",
              "      <td>Corinthians</td>\n",
              "    </tr>\n",
              "    <tr>\n",
              "      <th>46</th>\n",
              "      <td>2003</td>\n",
              "      <td>Cruzeiro</td>\n",
              "      <td>Santos</td>\n",
              "    </tr>\n",
              "    <tr>\n",
              "      <th>47</th>\n",
              "      <td>2004</td>\n",
              "      <td>Santos</td>\n",
              "      <td>Atlético Paranaense</td>\n",
              "    </tr>\n",
              "    <tr>\n",
              "      <th>48</th>\n",
              "      <td>2005</td>\n",
              "      <td>Corinthians</td>\n",
              "      <td>Internacional</td>\n",
              "    </tr>\n",
              "    <tr>\n",
              "      <th>49</th>\n",
              "      <td>2006</td>\n",
              "      <td>São</td>\n",
              "      <td>Internacional</td>\n",
              "    </tr>\n",
              "    <tr>\n",
              "      <th>50</th>\n",
              "      <td>2007</td>\n",
              "      <td>São</td>\n",
              "      <td>Santos</td>\n",
              "    </tr>\n",
              "    <tr>\n",
              "      <th>51</th>\n",
              "      <td>2008</td>\n",
              "      <td>São</td>\n",
              "      <td>Grêmio</td>\n",
              "    </tr>\n",
              "    <tr>\n",
              "      <th>52</th>\n",
              "      <td>2009</td>\n",
              "      <td>Flamengo</td>\n",
              "      <td>Internacional</td>\n",
              "    </tr>\n",
              "    <tr>\n",
              "      <th>53</th>\n",
              "      <td>2010</td>\n",
              "      <td>Fluminense</td>\n",
              "      <td>Cruzeiro</td>\n",
              "    </tr>\n",
              "    <tr>\n",
              "      <th>54</th>\n",
              "      <td>2011</td>\n",
              "      <td>Corinthians</td>\n",
              "      <td>Vasco da Gama</td>\n",
              "    </tr>\n",
              "    <tr>\n",
              "      <th>55</th>\n",
              "      <td>2012</td>\n",
              "      <td>Fluminense</td>\n",
              "      <td>Atlético Mineiro</td>\n",
              "    </tr>\n",
              "    <tr>\n",
              "      <th>56</th>\n",
              "      <td>2013</td>\n",
              "      <td>Cruzeiro</td>\n",
              "      <td>Grêmio</td>\n",
              "    </tr>\n",
              "    <tr>\n",
              "      <th>57</th>\n",
              "      <td>2014</td>\n",
              "      <td>Cruzeiro</td>\n",
              "      <td>São Paulo</td>\n",
              "    </tr>\n",
              "    <tr>\n",
              "      <th>58</th>\n",
              "      <td>2015</td>\n",
              "      <td>Corinthians</td>\n",
              "      <td>Atlético Mineiro</td>\n",
              "    </tr>\n",
              "    <tr>\n",
              "      <th>59</th>\n",
              "      <td>2016</td>\n",
              "      <td>Palmeiras</td>\n",
              "      <td>Santos</td>\n",
              "    </tr>\n",
              "    <tr>\n",
              "      <th>60</th>\n",
              "      <td>2017</td>\n",
              "      <td>Corinthians</td>\n",
              "      <td>Palmeiras</td>\n",
              "    </tr>\n",
              "    <tr>\n",
              "      <th>61</th>\n",
              "      <td>2018</td>\n",
              "      <td>Palmeiras</td>\n",
              "      <td>Flamengo</td>\n",
              "    </tr>\n",
              "    <tr>\n",
              "      <th>62</th>\n",
              "      <td>2019</td>\n",
              "      <td>Flamengo</td>\n",
              "      <td>Santos</td>\n",
              "    </tr>\n",
              "  </tbody>\n",
              "</table>\n",
              "</div>"
            ],
            "text/plain": [
              "     Ano     Vencedor                 Vice\n",
              "43  2000        Vasco          São Caetano\n",
              "44  2001     Atlético          São Caetano\n",
              "45  2002       Santos          Corinthians\n",
              "46  2003     Cruzeiro               Santos\n",
              "47  2004       Santos  Atlético Paranaense\n",
              "48  2005  Corinthians        Internacional\n",
              "49  2006          São        Internacional\n",
              "50  2007          São               Santos\n",
              "51  2008          São               Grêmio\n",
              "52  2009     Flamengo        Internacional\n",
              "53  2010   Fluminense             Cruzeiro\n",
              "54  2011  Corinthians        Vasco da Gama\n",
              "55  2012   Fluminense     Atlético Mineiro\n",
              "56  2013     Cruzeiro               Grêmio\n",
              "57  2014     Cruzeiro            São Paulo\n",
              "58  2015  Corinthians     Atlético Mineiro\n",
              "59  2016    Palmeiras               Santos\n",
              "60  2017  Corinthians            Palmeiras\n",
              "61  2018    Palmeiras             Flamengo\n",
              "62  2019     Flamengo               Santos"
            ]
          },
          "metadata": {
            "tags": []
          },
          "execution_count": 27
        }
      ]
    },
    {
      "cell_type": "code",
      "metadata": {
        "id": "proprietary-procedure"
      },
      "source": [
        "# Ajustando os valores das colunas Vencedor e Vice\n",
        "bra_camp['Vencedor'] = bra_camp['Vencedor'].replace(['São'],'São Paulo')\n",
        "bra_camp['Vencedor'] = bra_camp['Vencedor'].replace(['Atlético'],'Athlético-PR')\n",
        "bra_camp['Vice'] = bra_camp['Vice'].replace(['Atlético Paranaense'],'Athlético-PR')"
      ],
      "id": "proprietary-procedure",
      "execution_count": 28,
      "outputs": []
    },
    {
      "cell_type": "code",
      "metadata": {
        "colab": {
          "base_uri": "https://localhost:8080/",
          "height": 665
        },
        "id": "cleared-judgment",
        "outputId": "2ed941c5-b779-47f6-eda1-7a706907aae5"
      },
      "source": [
        "bra_camp"
      ],
      "id": "cleared-judgment",
      "execution_count": 29,
      "outputs": [
        {
          "output_type": "execute_result",
          "data": {
            "text/html": [
              "<div>\n",
              "<style scoped>\n",
              "    .dataframe tbody tr th:only-of-type {\n",
              "        vertical-align: middle;\n",
              "    }\n",
              "\n",
              "    .dataframe tbody tr th {\n",
              "        vertical-align: top;\n",
              "    }\n",
              "\n",
              "    .dataframe thead th {\n",
              "        text-align: right;\n",
              "    }\n",
              "</style>\n",
              "<table border=\"1\" class=\"dataframe\">\n",
              "  <thead>\n",
              "    <tr style=\"text-align: right;\">\n",
              "      <th></th>\n",
              "      <th>Ano</th>\n",
              "      <th>Vencedor</th>\n",
              "      <th>Vice</th>\n",
              "    </tr>\n",
              "  </thead>\n",
              "  <tbody>\n",
              "    <tr>\n",
              "      <th>43</th>\n",
              "      <td>2000</td>\n",
              "      <td>Vasco</td>\n",
              "      <td>São Caetano</td>\n",
              "    </tr>\n",
              "    <tr>\n",
              "      <th>44</th>\n",
              "      <td>2001</td>\n",
              "      <td>Athlético-PR</td>\n",
              "      <td>São Caetano</td>\n",
              "    </tr>\n",
              "    <tr>\n",
              "      <th>45</th>\n",
              "      <td>2002</td>\n",
              "      <td>Santos</td>\n",
              "      <td>Corinthians</td>\n",
              "    </tr>\n",
              "    <tr>\n",
              "      <th>46</th>\n",
              "      <td>2003</td>\n",
              "      <td>Cruzeiro</td>\n",
              "      <td>Santos</td>\n",
              "    </tr>\n",
              "    <tr>\n",
              "      <th>47</th>\n",
              "      <td>2004</td>\n",
              "      <td>Santos</td>\n",
              "      <td>Athlético-PR</td>\n",
              "    </tr>\n",
              "    <tr>\n",
              "      <th>48</th>\n",
              "      <td>2005</td>\n",
              "      <td>Corinthians</td>\n",
              "      <td>Internacional</td>\n",
              "    </tr>\n",
              "    <tr>\n",
              "      <th>49</th>\n",
              "      <td>2006</td>\n",
              "      <td>São Paulo</td>\n",
              "      <td>Internacional</td>\n",
              "    </tr>\n",
              "    <tr>\n",
              "      <th>50</th>\n",
              "      <td>2007</td>\n",
              "      <td>São Paulo</td>\n",
              "      <td>Santos</td>\n",
              "    </tr>\n",
              "    <tr>\n",
              "      <th>51</th>\n",
              "      <td>2008</td>\n",
              "      <td>São Paulo</td>\n",
              "      <td>Grêmio</td>\n",
              "    </tr>\n",
              "    <tr>\n",
              "      <th>52</th>\n",
              "      <td>2009</td>\n",
              "      <td>Flamengo</td>\n",
              "      <td>Internacional</td>\n",
              "    </tr>\n",
              "    <tr>\n",
              "      <th>53</th>\n",
              "      <td>2010</td>\n",
              "      <td>Fluminense</td>\n",
              "      <td>Cruzeiro</td>\n",
              "    </tr>\n",
              "    <tr>\n",
              "      <th>54</th>\n",
              "      <td>2011</td>\n",
              "      <td>Corinthians</td>\n",
              "      <td>Vasco da Gama</td>\n",
              "    </tr>\n",
              "    <tr>\n",
              "      <th>55</th>\n",
              "      <td>2012</td>\n",
              "      <td>Fluminense</td>\n",
              "      <td>Atlético Mineiro</td>\n",
              "    </tr>\n",
              "    <tr>\n",
              "      <th>56</th>\n",
              "      <td>2013</td>\n",
              "      <td>Cruzeiro</td>\n",
              "      <td>Grêmio</td>\n",
              "    </tr>\n",
              "    <tr>\n",
              "      <th>57</th>\n",
              "      <td>2014</td>\n",
              "      <td>Cruzeiro</td>\n",
              "      <td>São Paulo</td>\n",
              "    </tr>\n",
              "    <tr>\n",
              "      <th>58</th>\n",
              "      <td>2015</td>\n",
              "      <td>Corinthians</td>\n",
              "      <td>Atlético Mineiro</td>\n",
              "    </tr>\n",
              "    <tr>\n",
              "      <th>59</th>\n",
              "      <td>2016</td>\n",
              "      <td>Palmeiras</td>\n",
              "      <td>Santos</td>\n",
              "    </tr>\n",
              "    <tr>\n",
              "      <th>60</th>\n",
              "      <td>2017</td>\n",
              "      <td>Corinthians</td>\n",
              "      <td>Palmeiras</td>\n",
              "    </tr>\n",
              "    <tr>\n",
              "      <th>61</th>\n",
              "      <td>2018</td>\n",
              "      <td>Palmeiras</td>\n",
              "      <td>Flamengo</td>\n",
              "    </tr>\n",
              "    <tr>\n",
              "      <th>62</th>\n",
              "      <td>2019</td>\n",
              "      <td>Flamengo</td>\n",
              "      <td>Santos</td>\n",
              "    </tr>\n",
              "  </tbody>\n",
              "</table>\n",
              "</div>"
            ],
            "text/plain": [
              "     Ano      Vencedor              Vice\n",
              "43  2000         Vasco       São Caetano\n",
              "44  2001  Athlético-PR       São Caetano\n",
              "45  2002        Santos       Corinthians\n",
              "46  2003      Cruzeiro            Santos\n",
              "47  2004        Santos      Athlético-PR\n",
              "48  2005   Corinthians     Internacional\n",
              "49  2006     São Paulo     Internacional\n",
              "50  2007     São Paulo            Santos\n",
              "51  2008     São Paulo            Grêmio\n",
              "52  2009      Flamengo     Internacional\n",
              "53  2010    Fluminense          Cruzeiro\n",
              "54  2011   Corinthians     Vasco da Gama\n",
              "55  2012    Fluminense  Atlético Mineiro\n",
              "56  2013      Cruzeiro            Grêmio\n",
              "57  2014      Cruzeiro         São Paulo\n",
              "58  2015   Corinthians  Atlético Mineiro\n",
              "59  2016     Palmeiras            Santos\n",
              "60  2017   Corinthians         Palmeiras\n",
              "61  2018     Palmeiras          Flamengo\n",
              "62  2019      Flamengo            Santos"
            ]
          },
          "metadata": {
            "tags": []
          },
          "execution_count": 29
        }
      ]
    },
    {
      "cell_type": "code",
      "metadata": {
        "id": "otherwise-strand"
      },
      "source": [
        "# Juntando as duas tabelas\n",
        "camp = pd.merge(bra_full, bra_camp, on='Ano')"
      ],
      "id": "otherwise-strand",
      "execution_count": 30,
      "outputs": []
    },
    {
      "cell_type": "code",
      "metadata": {
        "id": "stunning-senior"
      },
      "source": [
        "# Incluindo o campeão e o vice de 2020\n",
        "camp = camp.append({'Ano': 2020, 'Clube_Vitorias': 'Flamengo', 'Vitorias': 21, 'Vencedor': 'Flamengo', 'Vice': 'Internacional'}, ignore_index=True)"
      ],
      "id": "stunning-senior",
      "execution_count": 31,
      "outputs": []
    },
    {
      "cell_type": "code",
      "metadata": {
        "colab": {
          "base_uri": "https://localhost:8080/",
          "height": 696
        },
        "id": "fifty-stevens",
        "outputId": "0a784b97-264d-4f95-882a-c4c693d19229"
      },
      "source": [
        "camp"
      ],
      "id": "fifty-stevens",
      "execution_count": 32,
      "outputs": [
        {
          "output_type": "execute_result",
          "data": {
            "text/html": [
              "<div>\n",
              "<style scoped>\n",
              "    .dataframe tbody tr th:only-of-type {\n",
              "        vertical-align: middle;\n",
              "    }\n",
              "\n",
              "    .dataframe tbody tr th {\n",
              "        vertical-align: top;\n",
              "    }\n",
              "\n",
              "    .dataframe thead th {\n",
              "        text-align: right;\n",
              "    }\n",
              "</style>\n",
              "<table border=\"1\" class=\"dataframe\">\n",
              "  <thead>\n",
              "    <tr style=\"text-align: right;\">\n",
              "      <th></th>\n",
              "      <th>Ano</th>\n",
              "      <th>Clube_Vitorias</th>\n",
              "      <th>Vitorias</th>\n",
              "      <th>Vencedor</th>\n",
              "      <th>Vice</th>\n",
              "    </tr>\n",
              "  </thead>\n",
              "  <tbody>\n",
              "    <tr>\n",
              "      <th>0</th>\n",
              "      <td>2000</td>\n",
              "      <td>Fluminense</td>\n",
              "      <td>12</td>\n",
              "      <td>Vasco</td>\n",
              "      <td>São Caetano</td>\n",
              "    </tr>\n",
              "    <tr>\n",
              "      <th>1</th>\n",
              "      <td>2001</td>\n",
              "      <td>Athlético-PR</td>\n",
              "      <td>20</td>\n",
              "      <td>Athlético-PR</td>\n",
              "      <td>São Caetano</td>\n",
              "    </tr>\n",
              "    <tr>\n",
              "      <th>2</th>\n",
              "      <td>2002</td>\n",
              "      <td>São Paulo</td>\n",
              "      <td>16</td>\n",
              "      <td>Santos</td>\n",
              "      <td>Corinthians</td>\n",
              "    </tr>\n",
              "    <tr>\n",
              "      <th>3</th>\n",
              "      <td>2003</td>\n",
              "      <td>Cruzeiro</td>\n",
              "      <td>30</td>\n",
              "      <td>Cruzeiro</td>\n",
              "      <td>Santos</td>\n",
              "    </tr>\n",
              "    <tr>\n",
              "      <th>4</th>\n",
              "      <td>2004</td>\n",
              "      <td>Santos</td>\n",
              "      <td>26</td>\n",
              "      <td>Santos</td>\n",
              "      <td>Athlético-PR</td>\n",
              "    </tr>\n",
              "    <tr>\n",
              "      <th>5</th>\n",
              "      <td>2005</td>\n",
              "      <td>Corinthians</td>\n",
              "      <td>24</td>\n",
              "      <td>Corinthians</td>\n",
              "      <td>Internacional</td>\n",
              "    </tr>\n",
              "    <tr>\n",
              "      <th>6</th>\n",
              "      <td>2006</td>\n",
              "      <td>São Paulo</td>\n",
              "      <td>22</td>\n",
              "      <td>São Paulo</td>\n",
              "      <td>Internacional</td>\n",
              "    </tr>\n",
              "    <tr>\n",
              "      <th>7</th>\n",
              "      <td>2007</td>\n",
              "      <td>São Paulo</td>\n",
              "      <td>23</td>\n",
              "      <td>São Paulo</td>\n",
              "      <td>Santos</td>\n",
              "    </tr>\n",
              "    <tr>\n",
              "      <th>8</th>\n",
              "      <td>2008</td>\n",
              "      <td>Grêmio</td>\n",
              "      <td>21</td>\n",
              "      <td>São Paulo</td>\n",
              "      <td>Grêmio</td>\n",
              "    </tr>\n",
              "    <tr>\n",
              "      <th>9</th>\n",
              "      <td>2009</td>\n",
              "      <td>Internacional</td>\n",
              "      <td>19</td>\n",
              "      <td>Flamengo</td>\n",
              "      <td>Internacional</td>\n",
              "    </tr>\n",
              "    <tr>\n",
              "      <th>10</th>\n",
              "      <td>2010</td>\n",
              "      <td>Cruzeiro</td>\n",
              "      <td>20</td>\n",
              "      <td>Fluminense</td>\n",
              "      <td>Cruzeiro</td>\n",
              "    </tr>\n",
              "    <tr>\n",
              "      <th>11</th>\n",
              "      <td>2011</td>\n",
              "      <td>Corinthians</td>\n",
              "      <td>21</td>\n",
              "      <td>Corinthians</td>\n",
              "      <td>Vasco da Gama</td>\n",
              "    </tr>\n",
              "    <tr>\n",
              "      <th>12</th>\n",
              "      <td>2012</td>\n",
              "      <td>Fluminense</td>\n",
              "      <td>22</td>\n",
              "      <td>Fluminense</td>\n",
              "      <td>Atlético Mineiro</td>\n",
              "    </tr>\n",
              "    <tr>\n",
              "      <th>13</th>\n",
              "      <td>2013</td>\n",
              "      <td>Cruzeiro</td>\n",
              "      <td>23</td>\n",
              "      <td>Cruzeiro</td>\n",
              "      <td>Grêmio</td>\n",
              "    </tr>\n",
              "    <tr>\n",
              "      <th>14</th>\n",
              "      <td>2014</td>\n",
              "      <td>Cruzeiro</td>\n",
              "      <td>23</td>\n",
              "      <td>Cruzeiro</td>\n",
              "      <td>São Paulo</td>\n",
              "    </tr>\n",
              "    <tr>\n",
              "      <th>15</th>\n",
              "      <td>2015</td>\n",
              "      <td>Corinthians</td>\n",
              "      <td>24</td>\n",
              "      <td>Corinthians</td>\n",
              "      <td>Atlético Mineiro</td>\n",
              "    </tr>\n",
              "    <tr>\n",
              "      <th>16</th>\n",
              "      <td>2016</td>\n",
              "      <td>Palmeiras</td>\n",
              "      <td>24</td>\n",
              "      <td>Palmeiras</td>\n",
              "      <td>Santos</td>\n",
              "    </tr>\n",
              "    <tr>\n",
              "      <th>17</th>\n",
              "      <td>2017</td>\n",
              "      <td>Corinthians</td>\n",
              "      <td>21</td>\n",
              "      <td>Corinthians</td>\n",
              "      <td>Palmeiras</td>\n",
              "    </tr>\n",
              "    <tr>\n",
              "      <th>18</th>\n",
              "      <td>2018</td>\n",
              "      <td>Palmeiras</td>\n",
              "      <td>23</td>\n",
              "      <td>Palmeiras</td>\n",
              "      <td>Flamengo</td>\n",
              "    </tr>\n",
              "    <tr>\n",
              "      <th>19</th>\n",
              "      <td>2019</td>\n",
              "      <td>Flamengo</td>\n",
              "      <td>28</td>\n",
              "      <td>Flamengo</td>\n",
              "      <td>Santos</td>\n",
              "    </tr>\n",
              "    <tr>\n",
              "      <th>20</th>\n",
              "      <td>2020</td>\n",
              "      <td>Flamengo</td>\n",
              "      <td>21</td>\n",
              "      <td>Flamengo</td>\n",
              "      <td>Internacional</td>\n",
              "    </tr>\n",
              "  </tbody>\n",
              "</table>\n",
              "</div>"
            ],
            "text/plain": [
              "     Ano Clube_Vitorias  Vitorias      Vencedor              Vice\n",
              "0   2000     Fluminense        12         Vasco       São Caetano\n",
              "1   2001   Athlético-PR        20  Athlético-PR       São Caetano\n",
              "2   2002      São Paulo        16        Santos       Corinthians\n",
              "3   2003       Cruzeiro        30      Cruzeiro            Santos\n",
              "4   2004         Santos        26        Santos      Athlético-PR\n",
              "5   2005    Corinthians        24   Corinthians     Internacional\n",
              "6   2006      São Paulo        22     São Paulo     Internacional\n",
              "7   2007      São Paulo        23     São Paulo            Santos\n",
              "8   2008         Grêmio        21     São Paulo            Grêmio\n",
              "9   2009  Internacional        19      Flamengo     Internacional\n",
              "10  2010       Cruzeiro        20    Fluminense          Cruzeiro\n",
              "11  2011    Corinthians        21   Corinthians     Vasco da Gama\n",
              "12  2012     Fluminense        22    Fluminense  Atlético Mineiro\n",
              "13  2013       Cruzeiro        23      Cruzeiro            Grêmio\n",
              "14  2014       Cruzeiro        23      Cruzeiro         São Paulo\n",
              "15  2015    Corinthians        24   Corinthians  Atlético Mineiro\n",
              "16  2016      Palmeiras        24     Palmeiras            Santos\n",
              "17  2017    Corinthians        21   Corinthians         Palmeiras\n",
              "18  2018      Palmeiras        23     Palmeiras          Flamengo\n",
              "19  2019       Flamengo        28      Flamengo            Santos\n",
              "20  2020       Flamengo        21      Flamengo     Internacional"
            ]
          },
          "metadata": {
            "tags": []
          },
          "execution_count": 32
        }
      ]
    },
    {
      "cell_type": "code",
      "metadata": {
        "id": "willing-mentor"
      },
      "source": [
        "# Verificando a combinação entre o clube com maior vitória, o campeão, vice e as demais colocações\n",
        "camp1 = camp.apply(lambda row: all(i in row.Vencedor for i in row.Clube_Vitorias), axis=1)\n",
        "camp2 = camp1.groupby([camp['Clube_Vitorias'], camp['Vencedor']]).sum().astype(int).reset_index(name='matches')\n",
        "camp3 = camp.apply(lambda row: all(i in row.Vice for i in row.Clube_Vitorias), axis=1)\n",
        "camp4 = camp3.groupby([camp['Clube_Vitorias'], camp['Vice']]).sum().astype(int).reset_index(name='matches')"
      ],
      "id": "willing-mentor",
      "execution_count": 34,
      "outputs": []
    },
    {
      "cell_type": "code",
      "metadata": {
        "id": "wrapped-deviation"
      },
      "source": [
        "# identificar a quantidade de clubes com maior vitória que foram campeões, vice ou ficou em outra posição na tabela  \n",
        "matches1 = camp2['matches'].sum()\n",
        "matches2 = camp4['matches'].sum()\n",
        "total_match = camp['Vencedor'].value_counts().sum()\n",
        "matches3 = total_match - (matches1 + matches2)"
      ],
      "id": "wrapped-deviation",
      "execution_count": 35,
      "outputs": []
    },
    {
      "cell_type": "code",
      "metadata": {
        "id": "annoying-speech"
      },
      "source": [
        "# Definir a porcentagem dos clubes com maior vitória que foram campeões, vice ou ficou em outra posição na tabela\n",
        "match_per1 = (matches1 / total_match) * 100\n",
        "match_per1 = round(match_per1)\n",
        "match_per2 = (matches2 / total_match) * 100\n",
        "match_per2 = round(match_per2)\n",
        "match_per3 = (matches3 / total_match) * 100\n",
        "match_per3 = round(match_per3)\n"
      ],
      "id": "annoying-speech",
      "execution_count": 36,
      "outputs": []
    },
    {
      "cell_type": "code",
      "metadata": {
        "colab": {
          "base_uri": "https://localhost:8080/",
          "height": 283
        },
        "id": "viral-vitamin",
        "outputId": "9637f8bc-61b2-472d-9c6e-9119df92831d"
      },
      "source": [
        "## Análise Gráfica dos maiores vencedores dos últimos 20 anos\n",
        "freq = camp['Vencedor'].value_counts(sort=True)\n",
        "freq.plot.barh()\n",
        "plt.title('Maiores Campeões dos Últimos 20 Anos')\n",
        "plt.xticks(range(0, 5, 1))\n",
        "plt.show()"
      ],
      "id": "viral-vitamin",
      "execution_count": 37,
      "outputs": [
        {
          "output_type": "display_data",
          "data": {
            "image/png": "[encoded data removed]",
            "text/plain": [
              "<Figure size 432x288 with 1 Axes>"
            ]
          },
          "metadata": {
            "tags": [],
            "needs_background": "light"
          }
        }
      ]
    },
    {
      "cell_type": "code",
      "metadata": {
        "colab": {
          "base_uri": "https://localhost:8080/",
          "height": 281
        },
        "id": "recognized-aside",
        "outputId": "bb9984e7-46aa-4e9b-d3b0-f3335f950496"
      },
      "source": [
        "# Gráfico da porcentagem de vitórias por colocação\n",
        "labels = ['Campeão', 'Vice', 'Os demais']\n",
        "bra_means = [match_per1, match_per2, match_per3]\n",
        "fig, ax = plt.subplots()\n",
        "ax.bar(labels, bra_means)\n",
        "ax.set_title('% de Vitórias por Colocação')\n",
        "ax.set_yticks(range(0, 80, 15))\n",
        "plt.show()\n"
      ],
      "id": "recognized-aside",
      "execution_count": 38,
      "outputs": [
        {
          "output_type": "display_data",
          "data": {
            "image/png": "[encoded data removed]",
            "text/plain": [
              "<Figure size 432x288 with 1 Axes>"
            ]
          },
          "metadata": {
            "tags": [],
            "needs_background": "light"
          }
        }
      ]
    },
    {
      "cell_type": "code",
      "metadata": {
        "colab": {
          "base_uri": "https://localhost:8080/"
        },
        "id": "yGGVj-1dphku",
        "outputId": "a70e3e46-fba7-4e06-c926-fb99588d20cb"
      },
      "source": [
        "# Os ultimos 10 anos os campeões foram o que tiveram a maior vitória, identificar a média de vitórias dos ultimos 10 anos.\n",
        "mean = camp.loc[camp['Ano'] > 2010]\n",
        "mean = mean['Vitorias'].mean()\n",
        "mean"
      ],
      "id": "yGGVj-1dphku",
      "execution_count": 39,
      "outputs": [
        {
          "output_type": "execute_result",
          "data": {
            "text/plain": [
              "23.0"
            ]
          },
          "metadata": {
            "tags": []
          },
          "execution_count": 39
        }
      ]
    }
  ]
}